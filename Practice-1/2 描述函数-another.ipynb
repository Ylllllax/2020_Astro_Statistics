{
 "cells": [
  {
   "cell_type": "code",
   "execution_count": 1,
   "metadata": {},
   "outputs": [],
   "source": [
    "import numpy as np\n",
    "from mpl_toolkits.mplot3d import Axes3D\n",
    "import matplotlib as mpl\n",
    "from scipy import interpolate\n",
    "import matplotlib.cm as cm\n",
    "import matplotlib.pyplot as plt\n",
    "\n",
    "from scipy import integrate\n",
    "import astropy.io.fits as fits \n",
    "import pandas as pd"
   ]
  },
  {
   "cell_type": "code",
   "execution_count": 2,
   "metadata": {},
   "outputs": [
    {
     "name": "stderr",
     "output_type": "stream",
     "text": [
      "F:\\Anaconda\\lib\\site-packages\\numpy\\lib\\function_base.py:3826: RuntimeWarning: Invalid value encountered in percentile\n",
      "  interpolation=interpolation)\n"
     ]
    },
    {
     "data": {
      "image/png": "[encoded data removed]",
      "text/plain": [
       "<Figure size 864x432 with 2 Axes>"
      ]
     },
     "metadata": {
      "needs_background": "light"
     },
     "output_type": "display_data"
    },
    {
     "name": "stdout",
     "output_type": "stream",
     "text": [
      "1024\n",
      "456.31006\n",
      "294.21515\n",
      "197.79608\n"
     ]
    }
   ],
   "source": [
    "import astropy.io.fits as fits \n",
    "\n",
    "hdu=fits.open('aJ_asky_991004n0440185.fits')\n",
    "data=hdu[0].data\n",
    "header=hdu[0].header\n",
    "\n",
    "fig=plt.figure(figsize=[12,6])\n",
    "ax = fig.add_subplot(111)\n",
    "ax.set_xlabel('X')\n",
    "ax.set_ylabel('Y')\n",
    "im=ax.imshow(data,cmap='Reds',origin='low')\n",
    "fig.colorbar(im, ax=ax)\n",
    "im.set_clim(0,np.percentile(data.flatten(),98))\n",
    "plt.show()\n",
    "\n",
    "print (len(data))\n",
    "print (data[294, 458])  # pixel 行、列值减一（pyhton list index 从零开始）\n",
    "print (data[236, 460])\n",
    "print (data[113, 124])"
   ]
  },
  {
   "cell_type": "code",
   "execution_count": 17,
   "metadata": {},
   "outputs": [
    {
     "data": {
      "image/png": "[encoded data removed]",
      "text/plain": [
       "<Figure size 720x432 with 1 Axes>"
      ]
     },
     "metadata": {
      "needs_background": "light"
     },
     "output_type": "display_data"
    },
    {
     "name": "stdout",
     "output_type": "stream",
     "text": [
      "5069.604\n"
     ]
    }
   ],
   "source": [
    "# 第一个源\n",
    "\n",
    "center = [236, 460]\n",
    "S = [data[236, 460]]\n",
    "r = [0]\n",
    "S_sum = data[236, 460]\n",
    "\n",
    "for i in range(1,6):\n",
    "    S_new = (data[center[0]+i, center[1]] + data[center[0], center[1]+i]\n",
    "            +data[center[0]-i, center[1]] + data[center[0], center[1]-i])/4\n",
    "    S_sum += (data[center[0]+i, center[1]] + data[center[0], center[1]+i]\n",
    "             +data[center[0]-i, center[1]] + data[center[0], center[1]-i])\n",
    "    S.append(S_new)\n",
    "    r.append(i)\n",
    "\n",
    "for i in range(1,4):\n",
    "    S_new = (data[center[0]+i, center[1]+i] + data[center[0]-i, center[1]+i]\n",
    "            +data[center[0]-i, center[1]-i] + data[center[0]+i, center[1]-i])/4\n",
    "    S_sum += (data[center[0]+i, center[1]+i] + data[center[0]-i, center[1]+i]\n",
    "             +data[center[0]-i, center[1]-i] + data[center[0]+i, center[1]-i])\n",
    "    S.append(S_new)\n",
    "    r.append(i*(2**0.5))\n",
    "\n",
    "r.sort()\n",
    "S.sort(reverse=True)\n",
    "fig = plt.figure(figsize=(10, 6))\n",
    "ax=plt.subplot(111)\n",
    "ax.step(r, S)\n",
    "ax.set_xlabel('r')\n",
    "ax.set_ylabel('S')\n",
    "plt.show()\n",
    "\n",
    "print(S_sum)"
   ]
  },
  {
   "cell_type": "code",
   "execution_count": null,
   "metadata": {},
   "outputs": [],
   "source": []
  }
 ],
 "metadata": {
  "kernelspec": {
   "display_name": "Python 3",
   "language": "python",
   "name": "python3"
  },
  "language_info": {
   "codemirror_mode": {
    "name": "ipython",
    "version": 3
   },
   "file_extension": ".py",
   "mimetype": "text/x-python",
   "name": "python",
   "nbconvert_exporter": "python",
   "pygments_lexer": "ipython3",
   "version": "3.7.0"
  }
 },
 "nbformat": 4,
 "nbformat_minor": 2
}
