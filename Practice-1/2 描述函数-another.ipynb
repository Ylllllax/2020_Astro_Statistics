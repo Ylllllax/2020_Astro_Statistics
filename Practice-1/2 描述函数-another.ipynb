{
 "cells": [
  {
   "cell_type": "code",
   "execution_count": 1,
   "metadata": {},
   "outputs": [],
   "source": [
    "import numpy as np\n",
    "from mpl_toolkits.mplot3d import Axes3D\n",
    "import matplotlib as mpl\n",
    "from scipy import interpolate\n",
    "import matplotlib.cm as cm\n",
    "import matplotlib.pyplot as plt\n",
    "\n",
    "from scipy import integrate\n",
    "import astropy.io.fits as fits \n",
    "import pandas as pd"
   ]
  },
  {
   "cell_type": "code",
   "execution_count": 2,
   "metadata": {},
   "outputs": [
    {
     "name": "stdout",
     "output_type": "stream",
     "text": [
      "456.31006\n",
      "294.21515\n",
      "197.79608\n"
     ]
    }
   ],
   "source": [
    "import astropy.io.fits as fits \n",
    "\n",
    "hdu=fits.open('aJ_asky_991004n0440185.fits')\n",
    "data=hdu[0].data\n",
    "header=hdu[0].header\n",
    "\n",
    "print (data[294, 458])  # pixel 行、列值减一（pyhton list index 从零开始）\n",
    "print (data[236, 460])\n",
    "print (data[113, 124])"
   ]
  },
  {
   "cell_type": "code",
   "execution_count": 3,
   "metadata": {},
   "outputs": [
    {
     "data": {
      "image/png": "[encoded data removed]",
      "text/plain": [
       "<Figure size 720x432 with 1 Axes>"
      ]
     },
     "metadata": {
      "needs_background": "light"
     },
     "output_type": "display_data"
    }
   ],
   "source": [
    "# 第一个源\n",
    "\n",
    "center = [294, 458]\n",
    "S = [data[294, 458]]\n",
    "r = [0]\n",
    "\n",
    "R = 10  # 最大半径\n",
    "N = 50 # 半径取值个数\n",
    "k = 1000 # 角度取值个数\n",
    "for i in range(1, N):\n",
    "    r_new = i*R/N\n",
    "    r.append(r_new)\n",
    "    x_new = int(r_new)\n",
    "    y_new = 0\n",
    "    theta_ini = 0\n",
    "    S_new = 0\n",
    "    for j in range(0, k+1):\n",
    "        theta = j*2*np.pi/k\n",
    "        if int(r_new*np.cos(theta)) != x_new:\n",
    "            def data_func_theta(theta):\n",
    "                return r_new * data[center[0]+x_new, center[1]+y_new]\n",
    "            S_new += integrate.quad(data_func_theta, theta_ini, theta)[0]\n",
    "            x_new = int(r_new*np.cos(theta))\n",
    "            theta_ini = theta\n",
    "        elif int(r_new*np.sin(theta)) != y_new:\n",
    "            def data_func_theta(theta):\n",
    "                return r_new * data[center[0]+x_new, center[1]+y_new]\n",
    "            S_new += integrate.quad(data_func_theta, theta_ini, theta)[0]\n",
    "            y_new = int(r_new*np.sin(theta))\n",
    "            theta_ini = theta\n",
    "        elif j == k:\n",
    "            def data_func_theta(theta):\n",
    "                return r_new * data[center[0]+x_new, center[1]+y_new]\n",
    "            S_new += integrate.quad(data_func_theta, theta_ini, theta)[0]\n",
    "        else:\n",
    "            continue\n",
    "    S.append(S_new/(2*np.pi*r_new))\n",
    "    \n",
    "fig = plt.figure(figsize=(10, 6))\n",
    "ax=plt.subplot(111)\n",
    "ax.plot(r, S)\n",
    "ax.set_xlabel('r')\n",
    "ax.set_ylabel('S')\n",
    "ax.set_xlim(0,5)\n",
    "plt.show()"
   ]
  },
  {
   "cell_type": "code",
   "execution_count": null,
   "metadata": {},
   "outputs": [],
   "source": []
  }
 ],
 "metadata": {
  "kernelspec": {
   "display_name": "Python 3",
   "language": "python",
   "name": "python3"
  },
  "language_info": {
   "codemirror_mode": {
    "name": "ipython",
    "version": 3
   },
   "file_extension": ".py",
   "mimetype": "text/x-python",
   "name": "python",
   "nbconvert_exporter": "python",
   "pygments_lexer": "ipython3",
   "version": "3.7.0"
  }
 },
 "nbformat": 4,
 "nbformat_minor": 2
}
