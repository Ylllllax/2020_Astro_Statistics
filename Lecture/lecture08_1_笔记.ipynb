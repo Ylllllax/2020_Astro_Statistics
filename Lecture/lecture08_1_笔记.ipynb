{
 "cells": [
  {
   "cell_type": "markdown",
   "metadata": {},
   "source": [
    "## 1 视向速度（多参数模型）\n",
    "---"
   ]
  },
  {
   "cell_type": "markdown",
   "metadata": {},
   "source": [
    "### 关于读文件\n",
    "astropy.io 读各种文件\n",
    "\n",
    "其中的 ascii 读入asc文件，可以设定文件名称、文件类型、必要参数（在astropy查找）\n",
    "\n",
    "读入以后是table格式\n",
    "\n",
    "print 出来可读性很强\n",
    "\n",
    "这里的例子中：时间  相位  （H-gamma线测得的）视向速度  视向速度误差\n",
    "\n",
    "---"
   ]
  },
  {
   "cell_type": "markdown",
   "metadata": {},
   "source": [
    "### fit radial velocity curve to a binary star\n",
    "设 视向速度（RV） 和 相位（p） 具有简单的函数关系，K是振幅，theta0是零点相位\n",
    "两个未知量，K 和 $\\theta_0$\n",
    "\n",
    "从上面观测得到视向速度和相位，问题就是求 K 和 $\\theta_0$的后验分布\n",
    "\n",
    "建立贝叶斯模型\n",
    "\n",
    "似然分布是给定 K 和 $\\theta_0$ 情况下，在给定相位点上得到相应视向速度的概率\n",
    "\n",
    "*用实际观测的第 $i$ 个 RV，和模型得到的 RV 进行比较，测量误差已知，认为测量误差是正态的，就可以建立多元正态分布。多次观测独立，就可以把它们乘起来，相当于在指数里加起来，得到 likelihood*\n",
    "\n",
    "这样就既建立了贝叶斯模型，又和背后的物理模型联系起来了\n",
    "\n",
    "得到了双参数模型，我们关心的是 K 和 $\\theta_0$ 的后验概率分布\n",
    "\n",
    "---"
   ]
  },
  {
   "cell_type": "markdown",
   "metadata": {},
   "source": [
    "首先把图画出来\n",
    "\n",
    "---\n",
    "\n",
    "这里用了马尔科夫链的方法\n",
    "\n",
    "首先写出物理模型 RV 的公式\n",
    "\n",
    "然后写到 likelihood 里面，MCMC用的是log的形式\n",
    "\n",
    "*这里有一个 if 语句，当 K<0 或 K>400 的时候，让它返回一个非常小的数，就是给了 K 一个均匀的先验分布，如果在 0 到 400 以外的范围，就给一个非常小的 likelihood，MCMC就不会在这里继续撒点了*\n",
    "\n",
    "同样 $\\theta_0$ 让它在 $-\\pi$ 和 $\\pi$ 之间变化\n",
    "\n",
    "这样可以简单地对参数进行约束\n",
    "\n",
    "因为这里 K 和 $\\theta_0$ 构成的统计模型不是正态的，没有办法使用正态模型的解析的方法写出来形式并通过拒绝抽样的方法算出两个参数，所以这里使用MCMC\n",
    "\n",
    "两个未知量 ndim=2，50个walkers\n",
    "\n",
    "初值选择：K 从150到250随机，$\\theta_0$ 从$-\\pi$到$\\pi$随机\n",
    "\n",
    "MCMC 三个参量，phase，RV，error\n",
    "\n",
    "100步 burn-in\n",
    "\n",
    "每个跑1000步，一共50000步\n",
    "\n",
    "samples 三维：两维参量+一维walkers，reshape压缩成二维\n",
    "\n",
    "扔掉跑到 0 到 400 之外的点\n",
    "\n",
    "通过 corner 画图\n",
    "\n",
    "这里最佳值取中值（看实际分布情况）\n",
    "\n",
    "---\n",
    "\n",
    "画出最佳拟合的图\n",
    "\n",
    "---"
   ]
  },
  {
   "cell_type": "markdown",
   "metadata": {},
   "source": [
    "### Add one more parameter\n",
    "\n",
    "加入系统的视向速度，改写物理模型\n",
    "\n",
    "---"
   ]
  },
  {
   "cell_type": "code",
   "execution_count": null,
   "metadata": {},
   "outputs": [],
   "source": []
  }
 ],
 "metadata": {
  "kernelspec": {
   "display_name": "Python 3",
   "language": "python",
   "name": "python3"
  },
  "language_info": {
   "codemirror_mode": {
    "name": "ipython",
    "version": 3
   },
   "file_extension": ".py",
   "mimetype": "text/x-python",
   "name": "python",
   "nbconvert_exporter": "python",
   "pygments_lexer": "ipython3",
   "version": "3.7.0"
  }
 },
 "nbformat": 4,
 "nbformat_minor": 2
}
