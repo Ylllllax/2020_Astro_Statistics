{
 "cells": [
  {
   "cell_type": "markdown",
   "metadata": {},
   "source": [
    "# 三维消光问题\n",
    "\n",
    "## 题目\n",
    "\n",
    "给定一个视线方向，在距离 r 附近观测有很多恒星，根据不同的有效温度进行分组，分成 J 组，每组因有效温度相同，所以内禀色指数相同且已知，对第 j 组的每一颗恒星 i，测得红化值 $E_{ij}$ $(i=1,2,...,n_j)$，误差 $\\sigma_j$，求到距离 r 处的红化值 $E_0$\n",
    "\n",
    "## 分析\n",
    "\n",
    "总体存在 均值为 $E_0$，标准差为 $S_0$ 的正态分布\n",
    "\n",
    "每个温度组都有一个期望的色余 $E_j \\sim N(E_0,S_0^2)$\n",
    "\n",
    "$E_{ij}$ 求平均，得到 $\\bar{E_{\\cdot j}}$。用这一平均值来计算，而不是每一颗恒星的值。\n",
    "\n",
    "#### 1. 联合后验分布\n",
    "\n",
    "$P(E,E_0,S_0|\\{\\bar{E_{\\cdot j}}\\})\\propto P(E_0,S_0) \\prod_{j=1}^{J} P(E_j|E_0,S_0) \\prod_{j=1}^{J} P(\\bar{E_{\\cdot j}}|E_j)$ （书P107）\n",
    "\n",
    "其中，$E=E_1,E_2,...,E_J$，即每组的期望色余。$P(E_0,S_0)$ 为超先验分布。\n",
    "\n",
    "#### 2. 给定超参数的条件后验分布\n",
    "\n",
    "$E_j|E_0,S_0,\\bar{E_{\\cdot j}}\\sim N(\\hat{E_j},V_j)$ （书P107）\n",
    "\n",
    "#### 3. 超参数的边缘后验分布\n",
    "\n",
    "$P(E_0,S_0|\\{\\bar{E_{\\cdot j}}\\})\\propto P(E_0,S_0) \\prod_{j=1}^{J} P(\\bar{E_{\\cdot j}}|E_0,S_0)$ （书P107）\n",
    "\n",
    "其中 $\\bar{E_{\\cdot j}}\\sim N(E_0,S_0^2+\\sigma_j^2)$\n",
    "\n",
    "#### 4. 条件后验分布\n",
    "\n",
    "$E_0|S_0,\\{\\bar{E_{\\cdot j}}\\}\\sim N(\\hat{E_0},V_E)$ （书 P108 7.7）\n",
    "\n",
    "#### 5. $S_0$ 的后验分布\n",
    "\n",
    "$P(S_0|\\{ \\bar{E_{\\cdot j}} \\})\\\\\n",
    "= P(E_0,S_0|\\{\\bar{E_{\\cdot j}}\\}) / P(E_0|S_0, \\{\\bar{E_{\\cdot j}}\\})\\\\\n",
    "= P(S_0) V_E^{1/2} \\prod_{j=1}^{J}(S_0^2+\\sigma_j^2)^{-1/2} \\exp(- \\frac{\\sum(\\bar{E_{\\cdot j}}-\\hat{E_0})^2}{2(\\sigma_j^2+S_0^2)})$ \n",
    "\n",
    "（书 P108 7.8）"
   ]
  },
  {
   "cell_type": "markdown",
   "metadata": {},
   "source": [
    "## 计算\n",
    "\n",
    "反过来！！！\n",
    "\n",
    "1. 抽 $S_0$，对应分析5\n",
    "\n",
    "2. 抽 $E_0|S_0$，对应分析4\n",
    "\n",
    "这两步已经将 $E_0,S_0$ 得到，之后是进一步分析\n",
    "\n",
    "3. 抽 $E_j|E_0,S_0$，对应分析2\n",
    "\n",
    "这是为了和数据对比，看看各分组给出的消光是否有偏离情况"
   ]
  },
  {
   "cell_type": "code",
   "execution_count": null,
   "metadata": {},
   "outputs": [],
   "source": []
  }
 ],
 "metadata": {
  "kernelspec": {
   "display_name": "Python 3",
   "language": "python",
   "name": "python3"
  },
  "language_info": {
   "codemirror_mode": {
    "name": "ipython",
    "version": 3
   },
   "file_extension": ".py",
   "mimetype": "text/x-python",
   "name": "python",
   "nbconvert_exporter": "python",
   "pygments_lexer": "ipython3",
   "version": "3.7.0"
  }
 },
 "nbformat": 4,
 "nbformat_minor": 2
}
