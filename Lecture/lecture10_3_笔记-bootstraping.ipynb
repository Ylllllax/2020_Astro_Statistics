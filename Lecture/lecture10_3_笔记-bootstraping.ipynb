{
 "cells": [
  {
   "cell_type": "markdown",
   "metadata": {},
   "source": [
    "### 自己写 bootstraping 的函数：bootstrap\n",
    "\n",
    "其中：\n",
    "\n",
    "func：统计量对应的函数（如求均值）\n",
    "\n",
    "x：样本\n",
    "\n",
    "N：bootstraping 重采样次数\n",
    "\n",
    "alpha：所选百分位数\n",
    "\n",
    "#### 函数内部：\n",
    "\n",
    "random.choice 进行重采样。nx 行（一次重采样得到的子样本）、N 列（重采样次数）。replace = Ture 即允许重采样出现重复值。得到的 xp 是一个 $nx\\times N$ 的矩阵。\n",
    "\n",
    "yb 是 xb 按行计算的函数（每一组重采样计算的函数）。\n",
    "\n",
    "lower 和 upper：分别是以 alpha 和 (1-alpha) 的百分位数作为上下边界。\n",
    "\n",
    "### bootstrap_smooth\n",
    "\n",
    "多了一个参数 e，即平滑标准差（在重新抽样时做平滑处理）。"
   ]
  },
  {
   "cell_type": "code",
   "execution_count": null,
   "metadata": {},
   "outputs": [],
   "source": []
  }
 ],
 "metadata": {
  "kernelspec": {
   "display_name": "Python 3",
   "language": "python",
   "name": "python3"
  },
  "language_info": {
   "codemirror_mode": {
    "name": "ipython",
    "version": 3
   },
   "file_extension": ".py",
   "mimetype": "text/x-python",
   "name": "python",
   "nbconvert_exporter": "python",
   "pygments_lexer": "ipython3",
   "version": "3.7.0"
  }
 },
 "nbformat": 4,
 "nbformat_minor": 2
}
